{
 "cells": [
  {
   "cell_type": "code",
   "execution_count": 1,
   "id": "eade9bf6-79b2-4229-87f8-f7d8ab0d55f5",
   "metadata": {
    "tags": []
   },
   "outputs": [
    {
     "name": "stdout",
     "output_type": "stream",
     "text": [
      "There are 3 directories and 1 images in '/Users/zachderse//Desktop/self_projects'.\n",
      "There are 2 directories and 1 images in '/Users/zachderse//Desktop/self_projects/Test'.\n",
      "There are 0 directories and 22 images in '/Users/zachderse//Desktop/self_projects/Test/CDR_0'.\n",
      "There are 0 directories and 5 images in '/Users/zachderse//Desktop/self_projects/Test/CDR_1'.\n",
      "There are 2 directories and 1 images in '/Users/zachderse//Desktop/self_projects/Train'.\n",
      "There are 0 directories and 71 images in '/Users/zachderse//Desktop/self_projects/Train/CDR_0'.\n",
      "There are 0 directories and 12 images in '/Users/zachderse//Desktop/self_projects/Train/CDR_1'.\n",
      "There are 0 directories and 1 images in '/Users/zachderse//Desktop/self_projects/.ipynb_checkpoints'.\n"
     ]
    },
    {
     "data": {
      "text/plain": [
       "('/Users/zachderse//Desktop/self_projects/train',\n",
       " '/Users/zachderse//Desktop/self_projects/test')"
      ]
     },
     "execution_count": 1,
     "metadata": {},
     "output_type": "execute_result"
    }
   ],
   "source": [
    "import matplotlib.pyplot as plt\n",
    "import numpy as np\n",
    "import pandas as pd \n",
    "import os\n",
    "from PIL import Image\n",
    "from torch.utils.data import Dataset\n",
    "from torch.utils.data import DataLoader\n",
    "import torch.nn as nn\n",
    "from torchvision import utils\n",
    "from torchvision import datasets\n",
    "import torch\n",
    "from torchvision import datasets, models, transforms\n",
    "import torch.nn as nn\n",
    "\n",
    "\n",
    "for dirpath, dirnames, filenames in os.walk('/Users/zachderse//Desktop/self_projects'):\n",
    "    print(f\"There are {len(dirnames)} directories and {len(filenames)} images in '{dirpath}'.\")\n",
    "    \n",
    "train_dir = \"/Users/zachderse//Desktop/self_projects/train\"\n",
    "test_dir = \"/Users/zachderse//Desktop/self_projects/test\"\n",
    "\n",
    "train_dir, test_dir"
   ]
  },
  {
   "cell_type": "code",
   "execution_count": 2,
   "id": "08e8436c-b370-43f6-9007-a608121ceeed",
   "metadata": {
    "tags": []
   },
   "outputs": [
    {
     "name": "stdout",
     "output_type": "stream",
     "text": [
      "Mean: tensor([0.2802])\n",
      "Std: tensor([0.3063])\n"
     ]
    }
   ],
   "source": [
    "#checking the pixel values in a histogram to find if adjustments are needed\n",
    "img = Image.open(\"/Users/zachderse//Desktop/self_projects/test/CDR_0/0323C_S.png\")\n",
    "img_np = np.array(img)\n",
    "transform = transforms.Compose([\n",
    "    transforms.ToTensor()\n",
    "])\n",
    "img_tr = transform(img)\n",
    "img_tr = transform(img)\n",
    " \n",
    "\n",
    "mean, std = img_tr.mean([1,2]), img_tr.std([1,2])\n",
    " \n",
    "#should be one dimension for the grayscale data\n",
    "print(\"Mean:\", mean)\n",
    "print(\"Std:\", std)"
   ]
  },
  {
   "cell_type": "code",
   "execution_count": 3,
   "id": "1232f8c6-8750-41e5-8ba0-7a213fb22090",
   "metadata": {
    "tags": []
   },
   "outputs": [
    {
     "name": "stdout",
     "output_type": "stream",
     "text": [
      "Mean and Std of normalized image:\n",
      "Mean: tensor([-1.9392e-07])\n",
      "Std: tensor([1.0000])\n"
     ]
    },
    {
     "data": {
      "image/png": "[encoded data removed]",
      "text/plain": [
       "<Figure size 640x480 with 1 Axes>"
      ]
     },
     "metadata": {},
     "output_type": "display_data"
    }
   ],
   "source": [
    "#checking the normalized histogram\n",
    "\n",
    "transform_norm = transforms.Compose([\n",
    "    transforms.ToTensor(),\n",
    "    transforms.Normalize(mean, std)\n",
    "])\n",
    " \n",
    "img_normalized = transform_norm(img)\n",
    "img_np = np.array(img_normalized)\n",
    " \n",
    "plt.hist(img_np.ravel(), bins=5, density=True)\n",
    "plt.xlabel(\"pixel values\")\n",
    "plt.ylabel(\"relative frequency\")\n",
    "plt.title(\"distribution of pixels\")\n",
    "\n",
    "img_nor = transform_norm(img)\n",
    " \n",
    "\n",
    "mean, std = img_nor.mean([1,2]), img_nor.std([1,2])\n",
    "print(\"Mean and Std of normalized image:\")\n",
    "print(\"Mean:\", mean)\n",
    "print(\"Std:\", std)"
   ]
  },
  {
   "cell_type": "code",
   "execution_count": 4,
   "id": "d0b81e3f-cbd9-4ca8-89e4-f88585e01a36",
   "metadata": {
    "tags": []
   },
   "outputs": [
    {
     "name": "stdout",
     "output_type": "stream",
     "text": [
      "['CDR_0', 'CDR_1']\n",
      "{'CDR_0': 0, 'CDR_1': 1}\n"
     ]
    },
    {
     "data": {
      "text/plain": [
       "(82, 26)"
      ]
     },
     "execution_count": 4,
     "metadata": {},
     "output_type": "execute_result"
    }
   ],
   "source": [
    "train_transforms = transforms.Compose([transforms.Resize((180,180)),\n",
    "                                       transforms.ToTensor(),\n",
    "                                       \n",
    "                                       transforms.Normalize(mean, std)\n",
    "                                      ])\n",
    "\n",
    "test_transforms = transforms.Compose([transforms.Resize((180,180)),\n",
    "                                      transforms.ToTensor(),\n",
    "                                      transforms.Normalize(mean, std) \n",
    "                                      ])\n",
    "\n",
    "#datasets\n",
    "train_data = datasets.ImageFolder(train_dir,transform=train_transforms)\n",
    "test_data = datasets.ImageFolder(test_dir,transform=test_transforms)\n",
    "\n",
    "#dataloader\n",
    "trainloader = torch.utils.data.DataLoader(train_data, shuffle = True, batch_size=16)\n",
    "testloader = torch.utils.data.DataLoader(test_data, shuffle = True, batch_size=16)\n",
    "\n",
    "#check if the classes and images are expected\n",
    "class_names = train_data.classes\n",
    "print(class_names)\n",
    "class_dict = train_data.class_to_idx\n",
    "print(class_dict)\n",
    "len(train_data), len(test_data)"
   ]
  },
  {
   "cell_type": "code",
   "execution_count": 5,
   "id": "3d729746-dd24-4ab2-893b-86f803fd6b41",
   "metadata": {
    "tags": []
   },
   "outputs": [],
   "source": [
    "def train_step(model, dataload, loss_fn, optimizer):\n",
    "    #set model to train\n",
    "    model.train()\n",
    "    #reset loss and accuracy\n",
    "    loss, acc = 0, 0\n",
    "    \n",
    "    for batch, (X, y) in enumerate(dataload):\n",
    "        X, y = X.to('cpu'), y.to('cpu')\n",
    "        \n",
    "        y_pred = model(X)\n",
    "\n",
    "        #y = y.unsqueeze(1)\n",
    "        #y = y.float()\n",
    "        loss = loss_fn(y_pred, y)\n",
    "        \n",
    "        \n",
    "        loss += loss.item() \n",
    "\n",
    "                # Zero the gradient to remove previous optimizer data\n",
    "        optimizer.zero_grad()\n",
    "                # back propagation\n",
    "        loss.backward()\n",
    "                #step\n",
    "        optimizer.step()\n",
    "        \n",
    "\n",
    "        # get accuracy metric across all batches\n",
    "        y_pred_class = torch.argmax(torch.log_softmax(y_pred, dim=1), dim=1)\n",
    "        acc += (y_pred_class == y).sum().item()/len(y_pred)\n",
    "    \n",
    "    \n",
    "\n",
    "    loss = loss / len(dataload)\n",
    "    acc = acc / len(dataload)\n",
    "    \n",
    "    return loss, acc"
   ]
  },
  {
   "cell_type": "code",
   "execution_count": 6,
   "id": "a0d301fd-7c8e-47eb-944f-542e932065e1",
   "metadata": {
    "tags": []
   },
   "outputs": [],
   "source": [
    "def test_step(model, dataload, loss_fn: torch.nn.Module):\n",
    "    # Switch to eval mode\n",
    "    model.eval() \n",
    "    \n",
    "    # Set loss and accuracy to zero\n",
    "    loss, acc = 0, 0\n",
    "    \n",
    "    # Turn on inference \n",
    "    with torch.inference_mode():\n",
    "        # Loop through DataLoader batches\n",
    "        for batch, (X, y) in enumerate(dataload):\n",
    "            X, y = X.to('cpu'), y.to('cpu')\n",
    "            \n",
    "            test_pred_logits = model(X)\n",
    "            \n",
    "\n",
    "            #y = y.unsqueeze(1)\n",
    "            #y = y.float()\n",
    "            loss = loss_fn(test_pred_logits, y)\n",
    "            \n",
    "            loss += loss.item()\n",
    "            \n",
    "            # Calculate accuracy\n",
    "            test_pred_labels = test_pred_logits.argmax(dim=1)\n",
    "            acc += ((test_pred_labels == y).sum().item()/len(test_pred_labels))\n",
    "            \n",
    "    # get average loss and accuracy per batch \n",
    "    loss = loss / len(dataload)\n",
    "    acc = acc / len(dataload)\n",
    "    return loss, acc"
   ]
  },
  {
   "cell_type": "code",
   "execution_count": 7,
   "id": "1646f817-6595-4a76-8eeb-4524b681d940",
   "metadata": {
    "tags": []
   },
   "outputs": [],
   "source": [
    "from tqdm.auto import tqdm\n",
    "def train(model, optimizer, loss_fn, dataload_train, dataload_test, epochs):\n",
    "    #initialize values\n",
    "    results = {\"train_loss\": [],\n",
    "        \"train_acc\": [],\n",
    "        \"test_loss\": [],\n",
    "        \"test_acc\": []}\n",
    "    #do a test step for every epoch\n",
    "    for i in tqdm(range(epochs)):\n",
    "        train_loss, train_acc = train_step(model, dataload_train, loss_fn,optimizer)\n",
    "        \n",
    "        test_loss, test_acc = test_step(model, dataload_test, loss_fn)\n",
    "        \n",
    "        print(\n",
    "                    f\"Epoch: {i+1} | \"\n",
    "                    f\"train_loss: {train_loss:.4f} | \"\n",
    "                    f\"train_acc: {train_acc:.4f} | \"\n",
    "                    f\"test_loss: {test_loss:.4f} | \"\n",
    "                    f\"test_acc: {test_acc:.4f}\")\n",
    "        results[\"train_loss\"].append(train_loss)\n",
    "        results[\"train_acc\"].append(train_acc)\n",
    "        results[\"test_loss\"].append(test_loss)\n",
    "        results[\"test_acc\"].append(test_acc)\n",
    "    return results"
   ]
  },
  {
   "cell_type": "code",
   "execution_count": 8,
   "id": "b0f66e79-1c45-4845-8084-3b0c7274083e",
   "metadata": {
    "tags": []
   },
   "outputs": [],
   "source": [
    "\n",
    "\n",
    "device = \"cpu\"\n",
    "model = models.resnet18(weights=\"ResNet18_Weights.DEFAULT\")"
   ]
  },
  {
   "cell_type": "code",
   "execution_count": 9,
   "id": "b0738e9b-babe-421b-8921-62ba571ffc05",
   "metadata": {
    "tags": []
   },
   "outputs": [
    {
     "data": {
      "application/vnd.jupyter.widget-view+json": {
       "model_id": "7be7ca64795545a0a1c2bdc82c926459",
       "version_major": 2,
       "version_minor": 0
      },
      "text/plain": [
       "  0%|          | 0/15 [00:00<?, ?it/s]"
      ]
     },
     "metadata": {},
     "output_type": "display_data"
    },
    {
     "name": "stdout",
     "output_type": "stream",
     "text": [
      "Epoch: 1 | train_loss: -0.5268 | train_acc: 0.0000 | test_loss: -0.7213 | test_acc: 0.0000\n",
      "Epoch: 2 | train_loss: -1.4852 | train_acc: 0.2396 | test_loss: -2.8185 | test_acc: 0.0000\n",
      "Epoch: 3 | train_loss: -2.4289 | train_acc: 0.4688 | test_loss: -4.6191 | test_acc: 0.0000\n",
      "Epoch: 4 | train_loss: -3.3515 | train_acc: 0.7604 | test_loss: -7.1709 | test_acc: 0.3375\n",
      "Epoch: 5 | train_loss: -3.3466 | train_acc: 0.7188 | test_loss: -10.8850 | test_acc: 0.5312\n",
      "Epoch: 6 | train_loss: -5.1518 | train_acc: 0.8542 | test_loss: -14.4943 | test_acc: 0.7625\n",
      "Epoch: 7 | train_loss: -6.0466 | train_acc: 0.8646 | test_loss: -16.1714 | test_acc: 0.6750\n",
      "Epoch: 8 | train_loss: -6.9986 | train_acc: 0.8750 | test_loss: -19.3096 | test_acc: 0.8375\n",
      "Epoch: 9 | train_loss: -7.9766 | train_acc: 0.8750 | test_loss: -22.8742 | test_acc: 0.8562\n",
      "Epoch: 10 | train_loss: -8.8699 | train_acc: 0.8750 | test_loss: -26.5371 | test_acc: 0.8063\n",
      "Epoch: 11 | train_loss: -9.7737 | train_acc: 0.8750 | test_loss: -29.9229 | test_acc: 0.8250\n",
      "Epoch: 12 | train_loss: -10.7317 | train_acc: 0.8750 | test_loss: -30.9456 | test_acc: 0.8063\n",
      "Epoch: 13 | train_loss: -11.6555 | train_acc: 0.8750 | test_loss: -34.9718 | test_acc: 0.8063\n",
      "Epoch: 14 | train_loss: -12.5799 | train_acc: 0.8750 | test_loss: -36.1730 | test_acc: 0.8063\n",
      "Epoch: 15 | train_loss: -13.5706 | train_acc: 0.8750 | test_loss: -40.9047 | test_acc: 0.8250\n"
     ]
    }
   ],
   "source": [
    "from torch.optim import lr_scheduler\n",
    "\n",
    "#loss, unbalanced training set\n",
    "loss_fn = nn.NLLLoss()\n",
    "#reduction=\"sum\"\n",
    "\n",
    "#optimizer\n",
    "optimizer = torch.optim.Adam(model.fc.parameters()) \n",
    "\n",
    "results = train(model=model, optimizer=optimizer, loss_fn=loss_fn, dataload_train=trainloader, dataload_test=testloader, epochs=15)"
   ]
  },
  {
   "cell_type": "code",
   "execution_count": 10,
   "id": "fb50f7bb-af87-40db-9796-fed295f07b76",
   "metadata": {
    "tags": []
   },
   "outputs": [
    {
     "data": {
      "text/plain": [
       "=================================================================\n",
       "Layer (type:depth-idx)                   Param #\n",
       "=================================================================\n",
       "ResNet                                   --\n",
       "├─Conv2d: 1-1                            9,408\n",
       "├─BatchNorm2d: 1-2                       128\n",
       "├─ReLU: 1-3                              --\n",
       "├─MaxPool2d: 1-4                         --\n",
       "├─Sequential: 1-5                        --\n",
       "│    └─BasicBlock: 2-1                   --\n",
       "│    │    └─Conv2d: 3-1                  36,864\n",
       "│    │    └─BatchNorm2d: 3-2             128\n",
       "│    │    └─ReLU: 3-3                    --\n",
       "│    │    └─Conv2d: 3-4                  36,864\n",
       "│    │    └─BatchNorm2d: 3-5             128\n",
       "│    └─BasicBlock: 2-2                   --\n",
       "│    │    └─Conv2d: 3-6                  36,864\n",
       "│    │    └─BatchNorm2d: 3-7             128\n",
       "│    │    └─ReLU: 3-8                    --\n",
       "│    │    └─Conv2d: 3-9                  36,864\n",
       "│    │    └─BatchNorm2d: 3-10            128\n",
       "├─Sequential: 1-6                        --\n",
       "│    └─BasicBlock: 2-3                   --\n",
       "│    │    └─Conv2d: 3-11                 73,728\n",
       "│    │    └─BatchNorm2d: 3-12            256\n",
       "│    │    └─ReLU: 3-13                   --\n",
       "│    │    └─Conv2d: 3-14                 147,456\n",
       "│    │    └─BatchNorm2d: 3-15            256\n",
       "│    │    └─Sequential: 3-16             8,448\n",
       "│    └─BasicBlock: 2-4                   --\n",
       "│    │    └─Conv2d: 3-17                 147,456\n",
       "│    │    └─BatchNorm2d: 3-18            256\n",
       "│    │    └─ReLU: 3-19                   --\n",
       "│    │    └─Conv2d: 3-20                 147,456\n",
       "│    │    └─BatchNorm2d: 3-21            256\n",
       "├─Sequential: 1-7                        --\n",
       "│    └─BasicBlock: 2-5                   --\n",
       "│    │    └─Conv2d: 3-22                 294,912\n",
       "│    │    └─BatchNorm2d: 3-23            512\n",
       "│    │    └─ReLU: 3-24                   --\n",
       "│    │    └─Conv2d: 3-25                 589,824\n",
       "│    │    └─BatchNorm2d: 3-26            512\n",
       "│    │    └─Sequential: 3-27             33,280\n",
       "│    └─BasicBlock: 2-6                   --\n",
       "│    │    └─Conv2d: 3-28                 589,824\n",
       "│    │    └─BatchNorm2d: 3-29            512\n",
       "│    │    └─ReLU: 3-30                   --\n",
       "│    │    └─Conv2d: 3-31                 589,824\n",
       "│    │    └─BatchNorm2d: 3-32            512\n",
       "├─Sequential: 1-8                        --\n",
       "│    └─BasicBlock: 2-7                   --\n",
       "│    │    └─Conv2d: 3-33                 1,179,648\n",
       "│    │    └─BatchNorm2d: 3-34            1,024\n",
       "│    │    └─ReLU: 3-35                   --\n",
       "│    │    └─Conv2d: 3-36                 2,359,296\n",
       "│    │    └─BatchNorm2d: 3-37            1,024\n",
       "│    │    └─Sequential: 3-38             132,096\n",
       "│    └─BasicBlock: 2-8                   --\n",
       "│    │    └─Conv2d: 3-39                 2,359,296\n",
       "│    │    └─BatchNorm2d: 3-40            1,024\n",
       "│    │    └─ReLU: 3-41                   --\n",
       "│    │    └─Conv2d: 3-42                 2,359,296\n",
       "│    │    └─BatchNorm2d: 3-43            1,024\n",
       "├─AdaptiveAvgPool2d: 1-9                 --\n",
       "├─Linear: 1-10                           513,000\n",
       "=================================================================\n",
       "Total params: 11,689,512\n",
       "Trainable params: 11,689,512\n",
       "Non-trainable params: 0\n",
       "================================================================="
      ]
     },
     "execution_count": 10,
     "metadata": {},
     "output_type": "execute_result"
    }
   ],
   "source": [
    "from torchinfo import summary\n",
    "summary(model)"
   ]
  }
 ],
 "metadata": {
  "kernelspec": {
   "display_name": "Python 3 (ipykernel)",
   "language": "python",
   "name": "python3"
  },
  "language_info": {
   "codemirror_mode": {
    "name": "ipython",
    "version": 3
   },
   "file_extension": ".py",
   "mimetype": "text/x-python",
   "name": "python",
   "nbconvert_exporter": "python",
   "pygments_lexer": "ipython3",
   "version": "3.11.4"
  }
 },
 "nbformat": 4,
 "nbformat_minor": 5
}
